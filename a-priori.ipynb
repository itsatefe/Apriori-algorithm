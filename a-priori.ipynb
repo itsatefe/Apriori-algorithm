{
 "cells": [
  {
   "cell_type": "code",
   "execution_count": 1,
   "id": "0ab7d6f4",
   "metadata": {},
   "outputs": [],
   "source": [
    "import numpy as np\n",
    "from fpdf import FPDF\n",
    "from collections import Counter\n",
    "from itertools import combinations"
   ]
  },
  {
   "cell_type": "markdown",
   "id": "e7577972",
   "metadata": {},
   "source": [
    "# load data"
   ]
  },
  {
   "cell_type": "code",
   "execution_count": 2,
   "id": "f737d0db",
   "metadata": {},
   "outputs": [],
   "source": [
    "def load_data (adr='msnbc990928.seq'):\n",
    "    DataFile = open(adr)\n",
    "    TextLines = DataFile.readlines()\n",
    "    LegendLine = TextLines[2]\n",
    "    Legend = LegendLine.split()\n",
    "    LegendCodes = list(range(1,len(Legend)+1))\n",
    "    encode = dict(zip(LegendCodes,Legend))\n",
    "    Sequences = [[int(Entry) for Entry in Line.split()] for Line in TextLines[7:]]\n",
    "    return Sequences,encode"
   ]
  },
  {
   "cell_type": "code",
   "execution_count": 3,
   "id": "953ab3f1",
   "metadata": {},
   "outputs": [],
   "source": [
    "def build_matrix (seq,i_numbers):\n",
    "    t_number = len(seq)\n",
    "    shape = (t_number,i_numbers)\n",
    "    matrix = np.zeros(shape)\n",
    "    extract_items(seq)\n",
    "    for i in  range(len(seq)):\n",
    "        for q in seq[i]:\n",
    "            matrix[i][q-1] = 1\n",
    "    return matrix"
   ]
  },
  {
   "cell_type": "code",
   "execution_count": 4,
   "id": "40d59535",
   "metadata": {},
   "outputs": [],
   "source": [
    "def extract_items (seq):\n",
    "    items = []\n",
    "    for i in seq:\n",
    "        for q in i:\n",
    "            if(q not in items):\n",
    "                items.append(q)\n",
    "    items = sorted(items)\n",
    "    return items"
   ]
  },
  {
   "cell_type": "code",
   "execution_count": 5,
   "id": "a7cc131a",
   "metadata": {},
   "outputs": [],
   "source": [
    "def generate_c1 (matrix):\n",
    "    c1 = list(np.sum(matrix, axis=0).astype(int)) #support\n",
    "    return c1"
   ]
  },
  {
   "cell_type": "code",
   "execution_count": 6,
   "id": "17c9ae10",
   "metadata": {},
   "outputs": [],
   "source": [
    "def prune_c1 (c1,min_s):\n",
    "    l1 = Counter()\n",
    "    for i in range(len(c1)):\n",
    "        if(c1[i] >= min_s):\n",
    "            l1[frozenset([i+1])] += c1[i]\n",
    "    return l1"
   ]
  },
  {
   "cell_type": "code",
   "execution_count": 7,
   "id": "deb29452",
   "metadata": {},
   "outputs": [],
   "source": [
    "def generate_ck (lk,time,matrix):\n",
    "    nc = combined_set(lk,time)\n",
    "    ck = frequency (nc,matrix)\n",
    "    return ck"
   ]
  },
  {
   "cell_type": "code",
   "execution_count": 8,
   "id": "1d9d36a0",
   "metadata": {},
   "outputs": [],
   "source": [
    "def prune_ck (ck,min_s):\n",
    "    lk = Counter()\n",
    "    for i in ck:\n",
    "        if(ck[i] >= min_s):\n",
    "            lk[i] += ck[i]\n",
    "    return lk"
   ]
  },
  {
   "cell_type": "code",
   "execution_count": 9,
   "id": "c1854941",
   "metadata": {},
   "outputs": [],
   "source": [
    "def k_freq (maps,min_s,l1):\n",
    "    lk = l1\n",
    "    acc_itemset = []\n",
    "    k = 2\n",
    "    while (len(lk) != 0):\n",
    "        ck = generate_ck (lk,k,matrix)\n",
    "        lk = prune_ck (ck,min_s)\n",
    "        for i in lk:\n",
    "            maps[i] = lk[i]\n",
    "        if(len(lk) == 0):\n",
    "            break     \n",
    "        acc_itemset.append(lk)\n",
    "        k += 1\n",
    "    return acc_itemset,maps"
   ]
  },
  {
   "cell_type": "code",
   "execution_count": 10,
   "id": "0f005bda",
   "metadata": {},
   "outputs": [],
   "source": [
    "def apriori (matrix,min_s,min_c):\n",
    "    c1 = generate_c1 (matrix)\n",
    "    min_s = ((len(matrix) * min_s)) / 100\n",
    "    maps = dict()\n",
    "    l1 = prune_c1 (c1,min_s)\n",
    "    for i in l1:\n",
    "        maps[i] = l1[i]\n",
    "    acc_itemset,maps = k_freq(maps,min_s,l1)\n",
    "    t_number = len(matrix)\n",
    "    result = strong_rules(matrix,maps,acc_itemset,min_c)\n",
    "    return result"
   ]
  },
  {
   "cell_type": "code",
   "execution_count": 11,
   "id": "0272ec23",
   "metadata": {},
   "outputs": [],
   "source": [
    "def strong_rules (t_number,maps,acc_itemset,min_c):\n",
    "    result = []\n",
    "    for i in acc_itemset:\n",
    "        for lk in i:\n",
    "            for j in subset(list(lk)):\n",
    "                if (len(list(lk)) == len(j)):\n",
    "                    continue\n",
    "                next_rule = subtract(lk,j)\n",
    "                sup = maps[frozenset(lk)] / t_number\n",
    "                conf = maps[frozenset(lk)] / maps[frozenset(j)]\n",
    "                if conf >= min_c:\n",
    "                    s = round(sup * 100, 2)\n",
    "                    c = round(conf * 100, 2)\n",
    "                    result.append((j,next_rule, s, c))\n",
    "    result.sort(key=lambda x:x[2])\n",
    "    return result"
   ]
  },
  {
   "cell_type": "code",
   "execution_count": 12,
   "id": "77102107",
   "metadata": {},
   "outputs": [],
   "source": [
    "def subset (m):\n",
    "    comb = []\n",
    "    for i in range(1,len(m)+1):\n",
    "        comb += [list(j) for j in combinations(m, i)]\n",
    "    return comb"
   ]
  },
  {
   "cell_type": "code",
   "execution_count": 13,
   "id": "e6907888",
   "metadata": {},
   "outputs": [],
   "source": [
    "def subtract (l1,l2):\n",
    "    return [x for x in l1 if x not in l2]"
   ]
  },
  {
   "cell_type": "code",
   "execution_count": 14,
   "id": "14346801",
   "metadata": {},
   "outputs": [],
   "source": [
    "def frequency (nc, matrix):\n",
    "    c = Counter()\n",
    "    for q in matrix:\n",
    "        temp = set(np.where(q == 1)[0] + 1)\n",
    "        for i in nc:\n",
    "            if (temp.issuperset(i)):\n",
    "                c[i] += 1\n",
    "    return c"
   ]
  },
  {
   "cell_type": "code",
   "execution_count": 15,
   "id": "3d998180",
   "metadata": {},
   "outputs": [],
   "source": [
    "def combined_set (lk,time):\n",
    "    nc = set()\n",
    "    temp = list(lk)\n",
    "    for i in range(0,len(temp)):\n",
    "        for j in range(i+1,len(temp)):\n",
    "            t = temp[i].union(temp[j])\n",
    "            if(len(t) == time):\n",
    "                nc.add(temp[i].union(temp[j]))\n",
    "    return list(nc)"
   ]
  },
  {
   "cell_type": "code",
   "execution_count": 16,
   "id": "f201f01a",
   "metadata": {},
   "outputs": [],
   "source": [
    "def show_result (result,encode):\n",
    "    pdf = FPDF()\n",
    "    pdf.add_page()\n",
    "    pdf.set_font('Times', style = '', size = 15)\n",
    "    line = 1\n",
    "    for (i,j,k,z) in result:\n",
    "        line = line + 1\n",
    "        en_i = []\n",
    "        en_j = []\n",
    "        for a in i:\n",
    "            en_i.append(encode[a])\n",
    "        for a in j:\n",
    "            en_j.append(encode[a])\n",
    "\n",
    "        pdf.cell(200, 7, txt = str(en_i) + \"----->\" +str(en_j)+ \": sup=\"+ str(k)+ \": conf=\"+ str(z) ,ln = line , align = 'L')\n",
    "    pdf.output(\"Rule.pdf\")"
   ]
  },
  {
   "cell_type": "code",
   "execution_count": 17,
   "id": "b7575358",
   "metadata": {},
   "outputs": [
    {
     "name": "stdout",
     "output_type": "stream",
     "text": [
      "5\n"
     ]
    }
   ],
   "source": [
    "if __name__ == '__main__':\n",
    "    seq,encode = load_data()\n",
    "#     seq = seq[0:10000]\n",
    "    items = extract_items(seq)\n",
    "    i_numbers = len(items)\n",
    "    matrix = build_matrix (seq,i_numbers)\n",
    "    result = apriori (matrix, min_s =0.1, min_c = 0.5)\n",
    "    show_result (result,encode)"
   ]
  }
 ],
 "metadata": {
  "kernelspec": {
   "display_name": "Python 3 (ipykernel)",
   "language": "python",
   "name": "python3"
  },
  "language_info": {
   "codemirror_mode": {
    "name": "ipython",
    "version": 3
   },
   "file_extension": ".py",
   "mimetype": "text/x-python",
   "name": "python",
   "nbconvert_exporter": "python",
   "pygments_lexer": "ipython3",
   "version": "3.9.13"
  }
 },
 "nbformat": 4,
 "nbformat_minor": 5
}
